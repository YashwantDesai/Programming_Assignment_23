{
 "cells": [
  {
   "cell_type": "markdown",
   "id": "0c27a818",
   "metadata": {},
   "source": [
    "# Yashwant Desai –  Programming_Assingment 23"
   ]
  },
  {
   "cell_type": "markdown",
   "id": "9f377b0f",
   "metadata": {},
   "source": [
    "# Question 1"
   ]
  },
  {
   "cell_type": "markdown",
   "id": "0042eab4",
   "metadata": {},
   "source": [
    "Create a function that takes a number as an argument and returns True or False depending on whether the number is symmetrical or not. A number is symmetrical when it is the same as its reverse.\n",
    "Examples\n",
    "is_symmetrical(7227) ➞ True\n",
    "\n",
    "is_symmetrical(12567) ➞ False\n",
    "\n",
    "is_symmetrical(44444444) ➞ True\n",
    "\n",
    "is_symmetrical(9939) ➞ False\n",
    "\n",
    "is_symmetrical(1112111) ➞ True"
   ]
  },
  {
   "cell_type": "code",
   "execution_count": 1,
   "id": "8e869084",
   "metadata": {},
   "outputs": [
    {
     "name": "stdout",
     "output_type": "stream",
     "text": [
      "is_symmetrical(7227) ➞ True\n",
      "is_symmetrical(12567) ➞ False\n",
      "is_symmetrical(44444444) ➞ True\n",
      "is_symmetrical(9939) ➞ False\n",
      "is_symmetrical(1112111) ➞ True\n"
     ]
    }
   ],
   "source": [
    "def is_symmetrical(number):\n",
    "    num_str = str(number)\n",
    "    reversed_str = num_str[::-1]\n",
    "    return num_str == reversed_str\n",
    "print(f\"is_symmetrical(7227) ➞ {is_symmetrical(7227)}\")     \n",
    "print(f\"is_symmetrical(12567) ➞ {is_symmetrical(12567)}\")    \n",
    "print(f\"is_symmetrical(44444444) ➞ {is_symmetrical(44444444)}\") \n",
    "print(f\"is_symmetrical(9939) ➞ {is_symmetrical(9939)}\")     \n",
    "print(f\"is_symmetrical(1112111) ➞ {is_symmetrical(1112111)}\")  "
   ]
  },
  {
   "cell_type": "markdown",
   "id": "53c6d9f3",
   "metadata": {},
   "source": [
    "# Question 2"
   ]
  },
  {
   "cell_type": "markdown",
   "id": "297252ff",
   "metadata": {},
   "source": [
    "Given a string of numbers separated by a comma and space, return the product of the numbers.\n",
    "Examples\n",
    "multiply_nums(\"2, 3\") ➞ 6\n",
    "\n",
    "multiply_nums(\"1, 2, 3, 4\") ➞ 24\n",
    "\n",
    "multiply_nums(\"54, 75, 453, 0\") ➞ 0\n",
    "\n",
    "multiply_nums(\"10, -2\") ➞ -20"
   ]
  },
  {
   "cell_type": "code",
   "execution_count": 2,
   "id": "538bcdfa",
   "metadata": {},
   "outputs": [
    {
     "name": "stdout",
     "output_type": "stream",
     "text": [
      "multiply_nums(\"2, 3\") ➞ 6\n",
      "multiply_nums(\"1, 2, 3, 4\") ➞ 24\n",
      "multiply_nums(\"54, 75, 453, 0\") ➞ 0\n",
      "multiply_nums(\"10, -2\") ➞ -20\n"
     ]
    }
   ],
   "source": [
    "def multiply_nums(numbers_str):\n",
    "    numbers = [int(num) for num in numbers_str.split(', ')]\n",
    "    product = 1\n",
    "    for num in numbers:\n",
    "        product *= num\n",
    "    return product\n",
    "print(f\"\"\"multiply_nums(\"2, 3\") ➞ {multiply_nums(\"2, 3\")}\"\"\")        \n",
    "print(f\"\"\"multiply_nums(\"1, 2, 3, 4\") ➞ {multiply_nums(\"1, 2, 3, 4\")}\"\"\")  \n",
    "print(f\"\"\"multiply_nums(\"54, 75, 453, 0\") ➞ {multiply_nums(\"54, 75, 453, 0\")}\"\"\")  \n",
    "print(f\"\"\"multiply_nums(\"10, -2\") ➞ {multiply_nums(\"10, -2\")}\"\"\")"
   ]
  },
  {
   "cell_type": "markdown",
   "id": "9397a02b",
   "metadata": {},
   "source": [
    "# Question 3"
   ]
  },
  {
   "cell_type": "markdown",
   "id": "eb4b6b34",
   "metadata": {},
   "source": [
    "Create a function that squares every digit of a number.\n",
    "Examples\n",
    "square_digits(9119) ➞ 811181\n",
    "\n",
    "square_digits(2483) ➞ 416649\n",
    "\n",
    "square_digits(3212) ➞ 9414\n",
    "Notes\n",
    "The function receives an integer and must return an integer."
   ]
  },
  {
   "cell_type": "code",
   "execution_count": 3,
   "id": "59e7b52e",
   "metadata": {},
   "outputs": [
    {
     "name": "stdout",
     "output_type": "stream",
     "text": [
      "square_digits(9119) ➞ 811181\n",
      "square_digits(2483) ➞ 416649\n",
      "square_digits(3212) ➞ 9414\n"
     ]
    }
   ],
   "source": [
    "def square_digits(number):\n",
    "    result = \"\"\n",
    "    for digit in str(number):\n",
    "        square = int(digit) ** 2\n",
    "        result += str(square)\n",
    "    return int(result)\n",
    "print(f\"square_digits(9119) ➞ {square_digits(9119)}\")\n",
    "print(f\"square_digits(2483) ➞ {square_digits(2483)}\")\n",
    "print(f\"square_digits(3212) ➞ {square_digits(3212)}\")"
   ]
  },
  {
   "cell_type": "markdown",
   "id": "e0687b00",
   "metadata": {},
   "source": [
    "# Question 4"
   ]
  },
  {
   "cell_type": "markdown",
   "id": "8dd27407",
   "metadata": {},
   "source": [
    "Create a function that sorts a list and removes all duplicate items from it.\n",
    "Examples\n",
    "setify([1, 3, 3, 5, 5]) ➞ [1, 3, 5]\n",
    "\n",
    "setify([4, 4, 4, 4]) ➞ [4]\n",
    "\n",
    "setify([5, 7, 8, 9, 10, 15]) ➞ [5, 7, 8, 9, 10, 15]\n",
    "\n",
    "setify([3, 3, 3, 2, 1]) ➞ [1, 2, 3]"
   ]
  },
  {
   "cell_type": "code",
   "execution_count": 4,
   "id": "536ccbf1",
   "metadata": {},
   "outputs": [
    {
     "name": "stdout",
     "output_type": "stream",
     "text": [
      "setify([1, 3, 3, 5, 5]) ➞ [1, 3, 5]\n",
      "setify([4, 4, 4, 4]) ➞ [4]\n",
      "setify([5, 7, 8, 9, 10, 15]) ➞ [5, 7, 8, 9, 10, 15]\n",
      "setify([3, 3, 3, 2, 1]) ➞ [1, 2, 3]\n"
     ]
    }
   ],
   "source": [
    "def setify(lst):\n",
    "    sorted_list = sorted(lst)\n",
    "    unique_list = []\n",
    "    for item in sorted_list:\n",
    "        if item not in unique_list:\n",
    "            unique_list.append(item)\n",
    "    return unique_list\n",
    "print(f\"setify([1, 3, 3, 5, 5]) ➞ {setify([1, 3, 3, 5, 5])}\")\n",
    "print(f\"setify([4, 4, 4, 4]) ➞ {setify([4, 4, 4, 4])}\")\n",
    "print(f\"setify([5, 7, 8, 9, 10, 15]) ➞ {setify([5, 7, 8, 9, 10, 15])}\")\n",
    "print(f\"setify([3, 3, 3, 2, 1]) ➞ {setify([3, 3, 3, 2, 1])}\")"
   ]
  },
  {
   "cell_type": "markdown",
   "id": "a0807c84",
   "metadata": {},
   "source": [
    "# Question 5"
   ]
  },
  {
   "cell_type": "markdown",
   "id": "fa779e96",
   "metadata": {},
   "source": [
    "Create a function that returns the mean of all digits.\n",
    "Examples\n",
    "mean(42) ➞ 3\n",
    "\n",
    "mean(12345) ➞ 3\n",
    "\n",
    "mean(666) ➞ 6\n",
    "Notes\n",
    "•\tThe mean of all digits is the sum of digits / how many digits there are (e.g. mean of digits in 512 is (5+1+2)/3(number of digits) = 8/3=2).\n",
    "•\tThe mean will always be an integer."
   ]
  },
  {
   "cell_type": "code",
   "execution_count": 5,
   "id": "4ca3ceec",
   "metadata": {},
   "outputs": [
    {
     "name": "stdout",
     "output_type": "stream",
     "text": [
      "mean(42) ➞ 3\n",
      "mean(12345) ➞ 3\n",
      "mean(666) ➞ 6\n"
     ]
    }
   ],
   "source": [
    "def mean(number):\n",
    "    digits = [int(digit) for digit in str(number)]\n",
    "    sum_of_digits = sum(digits)\n",
    "    number_of_digits = len(digits)\n",
    "    return sum_of_digits // number_of_digits\n",
    "print(f\"mean(42) ➞ {mean(42)}\")      \n",
    "print(f\"mean(12345) ➞ {mean(12345)}\")   \n",
    "print(f\"mean(666) ➞ {mean(666)}\")     \n"
   ]
  },
  {
   "cell_type": "markdown",
   "id": "a79c0885",
   "metadata": {},
   "source": [
    "# Done Regards,Yashwant"
   ]
  }
 ],
 "metadata": {
  "kernelspec": {
   "display_name": "Python 3 (ipykernel)",
   "language": "python",
   "name": "python3"
  },
  "language_info": {
   "codemirror_mode": {
    "name": "ipython",
    "version": 3
   },
   "file_extension": ".py",
   "mimetype": "text/x-python",
   "name": "python",
   "nbconvert_exporter": "python",
   "pygments_lexer": "ipython3",
   "version": "3.9.13"
  }
 },
 "nbformat": 4,
 "nbformat_minor": 5
}
